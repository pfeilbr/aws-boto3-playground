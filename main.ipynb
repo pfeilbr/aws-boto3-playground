{
 "cells": [
  {
   "cell_type": "code",
   "execution_count": null,
   "id": "058fe72d-e54c-435a-bb32-5195300f3e11",
   "metadata": {},
   "outputs": [],
   "source": [
    "import boto3\n",
    "\n",
    "def get_caller_identity():\n",
    "    client = boto3.client('sts')\n",
    "    response = client.get_caller_identity()\n",
    "    return response\n",
    "\n",
    "#print(get_caller_identity())\n",
    "\n",
    "def publish_to_iot_topic(topic, message):\n",
    "    client = boto3.client('iot-data', region_name='us-east-1')\n",
    "    response = client.publish(\n",
    "        topic=topic,\n",
    "        qos=0,\n",
    "        payload=message\n",
    "    )\n",
    "    return response\n",
    "\n",
    "publish_to_iot_topic('test', 'Hello World')"
   ]
  }
 ],
 "metadata": {
  "kernelspec": {
   "display_name": "Python 3 (ipykernel)",
   "language": "python",
   "name": "python3"
  },
  "language_info": {
   "codemirror_mode": {
    "name": "ipython",
    "version": 3
   },
   "file_extension": ".py",
   "mimetype": "text/x-python",
   "name": "python",
   "nbconvert_exporter": "python",
   "pygments_lexer": "ipython3",
   "version": "3.11.1"
  }
 },
 "nbformat": 4,
 "nbformat_minor": 5
}
